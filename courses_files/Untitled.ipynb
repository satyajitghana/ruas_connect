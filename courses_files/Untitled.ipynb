{
 "cells": [
  {
   "cell_type": "code",
   "execution_count": 11,
   "metadata": {},
   "outputs": [
    {
     "ename": "ValueError",
     "evalue": "The default Firebase app already exists. This means you called initialize_app() more than once without providing an app name as the second argument. In most cases you only need to call initialize_app() once. But if you do want to initialize multiple apps, pass a second argument to initialize_app() to give each app a unique name.",
     "output_type": "error",
     "traceback": [
      "\u001b[1;31m---------------------------------------------------------------------------\u001b[0m",
      "\u001b[1;31mValueError\u001b[0m                                Traceback (most recent call last)",
      "\u001b[1;32m<ipython-input-11-6025242d882f>\u001b[0m in \u001b[0;36m<module>\u001b[1;34m\u001b[0m\n\u001b[0;32m      3\u001b[0m \u001b[1;33m\u001b[0m\u001b[0m\n\u001b[0;32m      4\u001b[0m \u001b[0mcred\u001b[0m \u001b[1;33m=\u001b[0m \u001b[0mcredentials\u001b[0m\u001b[1;33m.\u001b[0m\u001b[0mCertificate\u001b[0m\u001b[1;33m(\u001b[0m\u001b[1;34mr\"D:\\ruasconnect-firebase-adminsdk-mx5zy-8eaaaf550f.json\"\u001b[0m\u001b[1;33m)\u001b[0m\u001b[1;33m\u001b[0m\u001b[1;33m\u001b[0m\u001b[0m\n\u001b[1;32m----> 5\u001b[1;33m \u001b[0mdefault_app\u001b[0m \u001b[1;33m=\u001b[0m \u001b[0mfirebase_admin\u001b[0m\u001b[1;33m.\u001b[0m\u001b[0minitialize_app\u001b[0m\u001b[1;33m(\u001b[0m\u001b[0mcred\u001b[0m\u001b[1;33m)\u001b[0m\u001b[1;33m\u001b[0m\u001b[1;33m\u001b[0m\u001b[0m\n\u001b[0m",
      "\u001b[1;32m~\\Anaconda3\\lib\\site-packages\\firebase_admin\\__init__.py\u001b[0m in \u001b[0;36minitialize_app\u001b[1;34m(credential, options, name)\u001b[0m\n\u001b[0;32m     72\u001b[0m     \u001b[1;32mif\u001b[0m \u001b[0mname\u001b[0m \u001b[1;33m==\u001b[0m \u001b[0m_DEFAULT_APP_NAME\u001b[0m\u001b[1;33m:\u001b[0m\u001b[1;33m\u001b[0m\u001b[1;33m\u001b[0m\u001b[0m\n\u001b[0;32m     73\u001b[0m         raise ValueError((\n\u001b[1;32m---> 74\u001b[1;33m             \u001b[1;34m'The default Firebase app already exists. This means you called '\u001b[0m\u001b[1;33m\u001b[0m\u001b[1;33m\u001b[0m\u001b[0m\n\u001b[0m\u001b[0;32m     75\u001b[0m             \u001b[1;34m'initialize_app() more than once without providing an app name as '\u001b[0m\u001b[1;33m\u001b[0m\u001b[1;33m\u001b[0m\u001b[0m\n\u001b[0;32m     76\u001b[0m             \u001b[1;34m'the second argument. In most cases you only need to call '\u001b[0m\u001b[1;33m\u001b[0m\u001b[1;33m\u001b[0m\u001b[0m\n",
      "\u001b[1;31mValueError\u001b[0m: The default Firebase app already exists. This means you called initialize_app() more than once without providing an app name as the second argument. In most cases you only need to call initialize_app() once. But if you do want to initialize multiple apps, pass a second argument to initialize_app() to give each app a unique name."
     ]
    }
   ],
   "source": [
    "import firebase_admin\n",
    "from firebase_admin import credentials\n",
    "\n",
    "cred = credentials.Certificate(r\"D:\\ruasconnect-firebase-adminsdk-mx5zy-8eaaaf550f.json\")\n",
    "default_app = firebase_admin.initialize_app(cred)"
   ]
  },
  {
   "cell_type": "code",
   "execution_count": 12,
   "metadata": {},
   "outputs": [],
   "source": [
    "from firebase_admin import firestore\n",
    "db = firestore.client()"
   ]
  },
  {
   "cell_type": "code",
   "execution_count": 13,
   "metadata": {},
   "outputs": [],
   "source": [
    "import yaml"
   ]
  },
  {
   "cell_type": "code",
   "execution_count": 14,
   "metadata": {},
   "outputs": [
    {
     "name": "stderr",
     "output_type": "stream",
     "text": [
      "C:\\Users\\shadowleaf\\Anaconda3\\lib\\site-packages\\ipykernel_launcher.py:1: YAMLLoadWarning: calling yaml.load() without Loader=... is deprecated, as the default Loader is unsafe. Please read https://msg.pyyaml.org/load for full details.\n",
      "  \"\"\"Entry point for launching an IPython kernel.\n"
     ]
    }
   ],
   "source": [
    "my_dict = yaml.load(open('COURSES.yaml'))"
   ]
  },
  {
   "cell_type": "code",
   "execution_count": 15,
   "metadata": {},
   "outputs": [
    {
     "data": {
      "text/plain": [
       "{'CSE': [{'SEMESTER_01': {'BSC101A': 'Engineering Mathematics - 1',\n",
       "    'BSC102B': 'Engineering Physics',\n",
       "    'ESC101A': 'Elements of Mechanical Engineering',\n",
       "    'ESC102A': 'Elements of Electronics Engineering',\n",
       "    'HSC101B': 'Sociology',\n",
       "    'MCC101B': 'Technical Communication'}},\n",
       "  {'SEMESTER_02': {'BSC104A': 'Engineering Mathematics - 2',\n",
       "    'BSC105B': 'Engineering Chemistry',\n",
       "    'ESC106A': 'Construction Materials and Engineering Mechanics',\n",
       "    'ESC107A': 'Elements of Electrical Engineering',\n",
       "    'ESC108A': 'Elements of CSE',\n",
       "    'MCC102A': 'Environmental Studies'}},\n",
       "  {'SEMESTER_03': {'BSC207A': 'Engineering Mathematics - 3',\n",
       "    'CSC201A': 'Discrete Mathematics - 1',\n",
       "    'CSC202A': 'DSA',\n",
       "    'CSC203A': 'Logic Design',\n",
       "    'CSC204A': 'Advanced Programming Concepts',\n",
       "    'MCC201B': 'Human Rights'}},\n",
       "  {'SEMESTER_04': {'BSC208A': 'Engineering Mathematics - 4',\n",
       "    'ECC201A': 'Signals and Systems',\n",
       "    'CSC209A': 'DAA',\n",
       "    'CSC210A': 'SDF',\n",
       "    'CSC211A': 'FLAT',\n",
       "    'CSC212A': 'Data Communication',\n",
       "    'HSC201A': 'Law for Engineers'}},\n",
       "  {'SEMESTER_05': {'CSC301A': 'Discrete Mathematics - 2',\n",
       "    'CSC302A': 'Operating Systems',\n",
       "    'CSC303A': 'Computer Networks',\n",
       "    'CSC304A': 'Computer Simulation',\n",
       "    'CSC305A': 'PLP',\n",
       "    'HSC301A': 'Economics for Engineers'}},\n",
       "  {'SEMESTER_06': {'CSC309A': 'Computer Graphics',\n",
       "    'CSC310A': 'Compilers',\n",
       "    'CSC311A': 'Database Systems'}},\n",
       "  {'SEMESTER_07': {'CSC401A': 'Computational Intelligence',\n",
       "    'CSC402A': 'Web Architecture'}}]}"
      ]
     },
     "execution_count": 15,
     "metadata": {},
     "output_type": "execute_result"
    }
   ],
   "source": [
    "my_dict"
   ]
  },
  {
   "cell_type": "code",
   "execution_count": 10,
   "metadata": {},
   "outputs": [],
   "source": [
    "for branch, courses in my_dict.items():\n",
    "    for dic in courses:\n",
    "        for semester, course_list in dic.items():\n",
    "            db.collection(u'branch').document(branch).collection(semester).document(u'courses').set({'course_list':course_list})"
   ]
  },
  {
   "cell_type": "code",
   "execution_count": 16,
   "metadata": {},
   "outputs": [],
   "source": [
    "for branch, courses in my_dict.items():\n",
    "    for dic in courses:\n",
    "        for semester, courses in dic.items():\n",
    "            for course_code, title in courses.items():\n",
    "                db.collection(u'branch').document(branch).collection(semester).document(course_code).set({'title' : title})"
   ]
  },
  {
   "cell_type": "code",
   "execution_count": null,
   "metadata": {},
   "outputs": [],
   "source": []
  }
 ],
 "metadata": {
  "kernelspec": {
   "display_name": "Python 3",
   "language": "python",
   "name": "python3"
  },
  "language_info": {
   "codemirror_mode": {
    "name": "ipython",
    "version": 3
   },
   "file_extension": ".py",
   "mimetype": "text/x-python",
   "name": "python",
   "nbconvert_exporter": "python",
   "pygments_lexer": "ipython3",
   "version": "3.7.3"
  }
 },
 "nbformat": 4,
 "nbformat_minor": 2
}
